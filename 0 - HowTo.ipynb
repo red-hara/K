{
 "cells": [
  {
   "cell_type": "markdown",
   "metadata": {},
   "source": [
    "# Интерактивное пособие\n",
    "Интерактивное пособие состоит из _текстовых вставок_ и _исполняемых полей_.\n",
    "\n",
    "_Текстовая вставка_ - это текст в формате `Markdown`, он служит для сопровождения пособия.\n",
    "Текст, который вы видете на экране без рамки - это текстовая вставка (в том числе этот самый текст).\n",
    "\n",
    "_Исполняемое поле_ - поле с исходным кодом на языке Julia.\n",
    "Исполняемые поля могут проводить исполнение кода, находящегося в них.\n",
    "Исполняемые поля помечены текстом `In [ ]:` слева от них.\n",
    "\n",
    "Ниже представлено исполняемое поле.\n",
    "Для выполнения кода в нем выберите его и нажмите `Shift + Enter`.\n",
    "Вы увидете результат выполнения, а курсор автоматически перейдет на следующее исполняемое поле.\n",
    "Пока ведутся вычисления исполняемое поле будет помечено звездочкой `In [*]`.\n",
    "\n",
    "В рамках этого интерактивного пособия вам предстоит работать и исполняемыми полями, иногда редактируя их и наблюдая за результатами."
   ]
  },
  {
   "cell_type": "code",
   "execution_count": null,
   "metadata": {
    "scrolled": true
   },
   "outputs": [],
   "source": [
    "2 + 2"
   ]
  },
  {
   "cell_type": "markdown",
   "metadata": {},
   "source": [
    "Результаты вычисления исполненых полей доступны всем полям, исполняемым позже."
   ]
  },
  {
   "cell_type": "code",
   "execution_count": null,
   "metadata": {},
   "outputs": [],
   "source": [
    "a = 4"
   ]
  },
  {
   "cell_type": "code",
   "execution_count": null,
   "metadata": {},
   "outputs": [],
   "source": [
    "2 * a"
   ]
  },
  {
   "cell_type": "markdown",
   "metadata": {},
   "source": [
    "В языке Julia сразу доступно множество математических функций и констант"
   ]
  },
  {
   "cell_type": "code",
   "execution_count": null,
   "metadata": {},
   "outputs": [],
   "source": [
    "sin(0.5pi)"
   ]
  },
  {
   "cell_type": "markdown",
   "metadata": {},
   "source": [
    "Функции описываются с использованием ключевого слова `function`."
   ]
  },
  {
   "cell_type": "code",
   "execution_count": null,
   "metadata": {},
   "outputs": [],
   "source": [
    "function circle_perimeter(r)\n",
    "    2pi * r\n",
    "end\n",
    "circle_perimeter(3)"
   ]
  },
  {
   "cell_type": "markdown",
   "metadata": {},
   "source": [
    "Графики в интерактивном пособии строятся с помощью библиотеки `Plots`"
   ]
  },
  {
   "cell_type": "code",
   "execution_count": null,
   "metadata": {},
   "outputs": [],
   "source": [
    "using Plots, Logging;\n",
    "disable_logging(LogLevel(1000));"
   ]
  },
  {
   "cell_type": "code",
   "execution_count": null,
   "metadata": {},
   "outputs": [],
   "source": [
    "plot(-10:0.01:10, (x) -> sin(x) / x)"
   ]
  },
  {
   "cell_type": "markdown",
   "metadata": {},
   "source": [
    "Анимация создается с помощью директивы `@gif`"
   ]
  },
  {
   "cell_type": "code",
   "execution_count": null,
   "metadata": {},
   "outputs": [],
   "source": [
    "@gif for t = 0:0.1:2pi\n",
    "    plot(-10:0.01:10, [(x) -> sin(x + t), (x) -> cos(t) * sin(x)])\n",
    "end"
   ]
  }
 ],
 "metadata": {
  "@webio": {
   "lastCommId": null,
   "lastKernelId": null
  },
  "kernelspec": {
   "display_name": "Julia 1.5.0",
   "language": "julia",
   "name": "julia-1.5"
  },
  "language_info": {
   "file_extension": ".jl",
   "mimetype": "application/julia",
   "name": "julia",
   "version": "1.5.1"
  }
 },
 "nbformat": 4,
 "nbformat_minor": 4
}
