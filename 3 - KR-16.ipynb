{
 "cells": [
  {
   "cell_type": "code",
   "execution_count": null,
   "metadata": {
    "scrolled": true
   },
   "outputs": [],
   "source": [
    "using Transformation, Plots, Logging\n",
    "disable_logging(LogLevel(1000));"
   ]
  },
  {
   "cell_type": "markdown",
   "metadata": {},
   "source": [
    "# Манипулятор KUKA KR-16\n",
    "Манипулятор KUKA KR-16 отличается от упрощенной модели двумя дополнительными смещениями, перед второй кинематической парой и после третьей."
   ]
  },
  {
   "cell_type": "code",
   "execution_count": null,
   "metadata": {
    "scrolled": true
   },
   "outputs": [],
   "source": [
    "l = [\n",
    "    520, # подъем вдоль колонны\n",
    "    160, # смещение вперед\n",
    "    980, # длина плеча\n",
    "    150, # смещение локтя\n",
    "    860, # длина предплечья\n",
    "    153  # длина кисти\n",
    "];"
   ]
  },
  {
   "cell_type": "markdown",
   "metadata": {},
   "source": [
    "## Решение прямой задачи кинематики для манипулятора KUKA KR-16"
   ]
  },
  {
   "cell_type": "code",
   "execution_count": null,
   "metadata": {
    "scrolled": true
   },
   "outputs": [],
   "source": [
    "function kr16(l::Array{<:Real,1}, q::Array{<:Real,1})::Array{Transf,1}\n",
    "    q = map(deg2rad, q)\n",
    "    t0 = Transf()\n",
    "    t1 = t0 + Transf(Vec(0, 0, l[1]), Quat(q[1], Vec(0, 0, 1)))\n",
    "    t2 = t1 + Transf(Vec(0, l[2], 0), Quat(q[2], Vec(1, 0, 0)))\n",
    "    t3 = t2 + Transf(Vec(0, 0, l[3]), Quat(q[3], Vec(1, 0, 0)))\n",
    "    t4 = t3 + Transf(Vec(0, -l[4], 0))\n",
    "    t5 = t4 + Transf(Vec(0, 0, l[5]), Quat(q[4], Vec(0, 0, 1)) * Quat(q[5], Vec(1, 0, 0)))\n",
    "    t6 = t5 + Transf(Vec(0, 0, l[6]), Quat(q[6], Vec(0, 0, 1)))\n",
    "    [t0, t1, t2, t3, t4, t5, t6]\n",
    "end;"
   ]
  },
  {
   "cell_type": "markdown",
   "metadata": {},
   "source": [
    "### Вспомогательные функции для отображения"
   ]
  },
  {
   "cell_type": "code",
   "execution_count": null,
   "metadata": {
    "scrolled": true
   },
   "outputs": [],
   "source": [
    "include(\"graphics.jl\");"
   ]
  },
  {
   "cell_type": "markdown",
   "metadata": {},
   "source": [
    "## Пример решения прямой задачи кинематики"
   ]
  },
  {
   "cell_type": "code",
   "execution_count": null,
   "metadata": {
    "scrolled": false
   },
   "outputs": [],
   "source": [
    "qs = [0, 45, -45, 0, 90, 0]\n",
    "qe = [-120, -15, -135, 60, -90, 360]\n",
    "\n",
    "pathX = []\n",
    "pathY = []\n",
    "pathZ = []\n",
    "@gif for t = 0:.01:1\n",
    "    p = plot(\n",
    "        xlims = (-1000, 1000),\n",
    "        ylims = (-1000, 1000),\n",
    "        zlims = (0, 2000),\n",
    "        size = (500, 500)\n",
    "    )\n",
    "    q = qs + t * (qe - qs)\n",
    "    chain = kr16(l, q)\n",
    "    lst = last(chain)\n",
    "    push!(pathX, lst.v.x)\n",
    "    push!(pathY, lst.v.y)\n",
    "    push!(pathZ, lst.v.z)\n",
    "    plotChain!(p, chain)\n",
    "    projectChain!(p, chain)\n",
    "    plotAxis!(p, lst, 100)\n",
    "    plot!(p, pathX, pathY, pathZ, color = :gray, label = \"path\")\n",
    "end"
   ]
  },
  {
   "cell_type": "markdown",
   "metadata": {},
   "source": [
    "## Решение обратной задачи кинематики для манипулятора KUKA KR-16"
   ]
  },
  {
   "cell_type": "code",
   "execution_count": null,
   "metadata": {
    "scrolled": false
   },
   "outputs": [],
   "source": [
    "function angleTo(a::Vec, b::Vec, n::Vec)::Real\n",
    "    c = cross(a, b)\n",
    "    d = dot(a, b)\n",
    "    s = dot(c, n) > 0 ? 1 : -1\n",
    "    s * atan(norm(c), d)\n",
    "end\n",
    "\n",
    "function wrap360(a::Real)::Real\n",
    "    (a + 540) % 360 - 180\n",
    "end\n",
    "\n",
    "function ik(l::Array{<:Real,1}, t::Transf, i::Array{<:Real,1}=[1, 1, 1])::Array{<:Real,1}\n",
    "    fifth = t + Vec(0, 0, -l[4]) - Vec(0, 0, l[1])\n",
    "    q1 = atan(fifth.y, fifth.x) - pi + pi / 2 * i[1]\n",
    "    d = sqrt((sqrt(fifth.x^2 + fifth.y^2) - l[2] * i[1])^2 + fifth.z^2)\n",
    "    l2 = l[3]\n",
    "    l3 = sqrt(l[4]^2 + l[5]^2)\n",
    "    q3a = -0.5pi + atan(l[5], l[4])\n",
    "    q3 = q3a + i[1] * i[2] * acos((l2^2 + l3^2 - d^2)/(2 * l2 * l3)) + pi\n",
    "    q2 = i[1] * (i[2] * acos((l2^2 + d^2 - l3^2)/(2 * l2 * d)) + atan(fifth.z, sqrt(fifth.x^2 + fifth.y^2) - l[2] * i[1]) - pi / 2)\n",
    "    o = Quat(q1, Vec(0, 0, 1)) * Quat(q2, Vec(1, 0, 0)) * Quat(q3, Vec(1, 0, 0))\n",
    "    xo = o * Vec(1, 0, 0)\n",
    "    zo = o * Vec(0, 0, 1)\n",
    "    xt = t.q * Vec(1, 0, 0)\n",
    "    zt = t.q * Vec(0, 0, 1)\n",
    "    xr = cross(zo, zt)\n",
    "    q4 = angleTo(xo, xr, zo) + pi / 2 - pi / 2 * i[3]\n",
    "    q5 = angleTo(zo, zt, xr) * i[3]\n",
    "    q6 = angleTo(xr, xt, zt) + pi / 2 - pi / 2 * i[3]\n",
    "    q = map(rad2deg, [q1, q2, q3, q4, q5, q6])\n",
    "    map(wrap360, q)\n",
    "end;"
   ]
  },
  {
   "cell_type": "markdown",
   "metadata": {},
   "source": [
    "## Начальное и конечное положения"
   ]
  },
  {
   "cell_type": "code",
   "execution_count": null,
   "metadata": {
    "scrolled": true
   },
   "outputs": [],
   "source": [
    "s = Transf(Vec(0, -400, 800), Quat(pi / 3, Vec(1, 0, 0)))\n",
    "e = Transf(Vec(400, 600, 1200), Quat(pi / 2, Vec(0, 1, 0)));"
   ]
  },
  {
   "cell_type": "markdown",
   "metadata": {},
   "source": [
    "### Линейное движение"
   ]
  },
  {
   "cell_type": "code",
   "execution_count": null,
   "metadata": {
    "scrolled": false
   },
   "outputs": [],
   "source": [
    "path_x = []\n",
    "path_y = []\n",
    "path_z = []\n",
    "target_x = []\n",
    "target_y = []\n",
    "target_z = []\n",
    "@gif for t = 0:0.01:1\n",
    "    target = Transf(\n",
    "        s.v + t * (e.v - s.v),\n",
    "        slerp(s.q, e.q, t),\n",
    "    )\n",
    "    q = ik(l, target, [1, 1, 1])\n",
    "    p = plot(\n",
    "        xlims = (-1000, 1000),\n",
    "        ylims = (-1000, 1000),\n",
    "        zlims = (0, 2000),\n",
    "        size = (500, 500)\n",
    "    )\n",
    "    chain = kr16(l, q)\n",
    "    lst = last(chain)\n",
    "    push!(path_x, lst.v.x); push!(path_y, lst.v.y); push!(path_z, lst.v.z)\n",
    "    push!(target_x, target.v.x); push!(target_y, target.v.y); push!(target_z, target.v.z);\n",
    "    plotChain!(p, chain)\n",
    "    projectChain!(p, chain)\n",
    "    plotAxis!(p, s, 75)\n",
    "    plotAxis!(p, e, 75)\n",
    "    plotAxis!(p, lst, 100)\n",
    "    plot!(p, path_x, path_y, path_z, color = :red, label = \"path\")\n",
    "end"
   ]
  },
  {
   "cell_type": "markdown",
   "metadata": {},
   "source": [
    "### Переброска"
   ]
  },
  {
   "cell_type": "code",
   "execution_count": null,
   "metadata": {
    "scrolled": false
   },
   "outputs": [],
   "source": [
    "pathX = []\n",
    "pathY = []\n",
    "pathZ = []\n",
    "@gif for t = 0:0.01:1\n",
    "    qs = ik(l, s)\n",
    "    qe = ik(l, e)\n",
    "    q = qs + t * (qe - qs)\n",
    "    p = plot(\n",
    "        xlims = (-1000, 1000),\n",
    "        ylims = (-1000, 1000),\n",
    "        zlims = (0, 2000),\n",
    "        size = (500, 500)\n",
    "    )\n",
    "    chain = kr16(l, q)\n",
    "    lst = last(chain)\n",
    "    push!(pathX, lst.v.x)\n",
    "    push!(pathY, lst.v.y)\n",
    "    push!(pathZ, lst.v.z)\n",
    "    plotChain!(p, chain)\n",
    "    projectChain!(p, chain)\n",
    "    plotAxis!(p, s, 75)\n",
    "    plotAxis!(p, e, 75)\n",
    "    plotAxis!(p, lst, 100)\n",
    "    plot!(p, pathX, pathY, pathZ, color = :gray, label = \"path\")\n",
    "end"
   ]
  },
  {
   "cell_type": "markdown",
   "metadata": {},
   "source": [
    "### Влияние флагов конфигурации"
   ]
  },
  {
   "cell_type": "code",
   "execution_count": null,
   "metadata": {
    "scrolled": false
   },
   "outputs": [],
   "source": [
    "flags = [\n",
    "    [1, 1, 1],\n",
    "    [-1, 1, 1],\n",
    "    [-1, -1, 1],\n",
    "    [-1, -1, -1],\n",
    "    [-1, 1, -1],\n",
    "    [1, 1, -1],\n",
    "    [1, -1, -1],\n",
    "    [1, -1, 1],\n",
    "    [1, 1, 1]\n",
    "]\n",
    "target = Transf(Vec(900, 600, 1500), Quat(pi / 2, Vec(0, 1, 0)));\n",
    "@gif for i = 1:0.01:8.99\n",
    "    p = plot(\n",
    "        xlims = (-1000, 1000),\n",
    "        ylims = (-1000, 1000),\n",
    "        zlims = (0, 2000),\n",
    "        size = (500, 500)\n",
    "    )\n",
    "    \n",
    "    flagsStart = flags[Int(floor(i))]\n",
    "    flagsEnd = flags[Int(floor(i+1))]\n",
    "    t = i % 1\n",
    "    arg = 0.5 - cos(t * pi) / 2\n",
    "    qStart = ik(l, target, flagsStart)\n",
    "    qEnd = ik(l, target, flagsEnd)\n",
    "    q = qStart + arg * (qEnd - qStart)\n",
    "    \n",
    "    chain = kr16(l, q)\n",
    "    lst = last(chain)\n",
    "    plotChain!(p, chain)\n",
    "    projectChain!(p, chain)\n",
    "    plotAxis!(p, lst, 100)\n",
    "    plotAxis!(p, target, 100)\n",
    "end"
   ]
  }
 ],
 "metadata": {
  "@webio": {
   "lastCommId": null,
   "lastKernelId": null
  },
  "kernelspec": {
   "display_name": "Julia 1.5.0",
   "language": "julia",
   "name": "julia-1.5"
  },
  "language_info": {
   "file_extension": ".jl",
   "mimetype": "application/julia",
   "name": "julia",
   "version": "1.5.1"
  }
 },
 "nbformat": 4,
 "nbformat_minor": 4
}
