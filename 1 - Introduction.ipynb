{
 "cells": [
  {
   "cell_type": "code",
   "execution_count": null,
   "metadata": {},
   "outputs": [],
   "source": [
    "using Transformation, Plots, Logging\n",
    "disable_logging(LogLevel(1000));\n",
    "include(\"graphics.jl\");"
   ]
  },
  {
   "cell_type": "markdown",
   "metadata": {},
   "source": [
    "# Представление положения\n",
    "В рамках данного пособия положение (смещение и ориентация) объекта (или системы координат) описывается посредством связки _вектор_ и _кватернион_."
   ]
  },
  {
   "cell_type": "markdown",
   "metadata": {},
   "source": [
    "## Вектор\n",
    "Вектор описывает перемещение в трехмерном пространстве и содержит три числа\n",
    "$$ v = [x, y, z] $$"
   ]
  },
  {
   "cell_type": "code",
   "execution_count": null,
   "metadata": {},
   "outputs": [],
   "source": [
    "v = Vec(1, 2, 3)"
   ]
  },
  {
   "cell_type": "code",
   "execution_count": null,
   "metadata": {},
   "outputs": [],
   "source": [
    "v.x"
   ]
  },
  {
   "cell_type": "code",
   "execution_count": null,
   "metadata": {},
   "outputs": [],
   "source": [
    "v.y"
   ]
  },
  {
   "cell_type": "code",
   "execution_count": null,
   "metadata": {},
   "outputs": [],
   "source": [
    "v.z"
   ]
  },
  {
   "cell_type": "code",
   "execution_count": null,
   "metadata": {},
   "outputs": [],
   "source": [
    "a = Vec(1, 2, 3);\n",
    "b = Vec(2, 3, 0);"
   ]
  },
  {
   "cell_type": "markdown",
   "metadata": {},
   "source": [
    "Вектора можно _складывать_ и _вычитать_"
   ]
  },
  {
   "cell_type": "code",
   "execution_count": null,
   "metadata": {},
   "outputs": [],
   "source": [
    "a + b"
   ]
  },
  {
   "cell_type": "code",
   "execution_count": null,
   "metadata": {},
   "outputs": [],
   "source": [
    "a - b"
   ]
  },
  {
   "cell_type": "markdown",
   "metadata": {},
   "source": [
    "Вектора можно умножать _скалярно_"
   ]
  },
  {
   "cell_type": "code",
   "execution_count": null,
   "metadata": {},
   "outputs": [],
   "source": [
    "dot(a, b)"
   ]
  },
  {
   "cell_type": "markdown",
   "metadata": {},
   "source": [
    "Или брать _векторное_ произведение (полезно для определения перпендикуляра к двум векторам)."
   ]
  },
  {
   "cell_type": "code",
   "execution_count": null,
   "metadata": {},
   "outputs": [],
   "source": [
    "cross(a, b)"
   ]
  },
  {
   "cell_type": "code",
   "execution_count": null,
   "metadata": {},
   "outputs": [],
   "source": [
    "x = Vec(1, 0, 0)\n",
    "y = Vec(0, 1, 0)\n",
    "cross(x, y)"
   ]
  },
  {
   "cell_type": "markdown",
   "metadata": {},
   "source": [
    "Так же вектор можно умножеть на число"
   ]
  },
  {
   "cell_type": "code",
   "execution_count": null,
   "metadata": {},
   "outputs": [],
   "source": [
    "5 * Vec(1, 2, 3)"
   ]
  },
  {
   "cell_type": "markdown",
   "metadata": {},
   "source": [
    "У вектора есть _норма_ (_длина_)"
   ]
  },
  {
   "cell_type": "code",
   "execution_count": null,
   "metadata": {},
   "outputs": [],
   "source": [
    "norm(Vec(3, 4, 0))"
   ]
  },
  {
   "cell_type": "markdown",
   "metadata": {},
   "source": [
    "Вектор можно _нормировать_ (находить _колинеарный_ вектор с длиной `1`)"
   ]
  },
  {
   "cell_type": "code",
   "execution_count": null,
   "metadata": {},
   "outputs": [],
   "source": [
    "unit(Vec(3, 4, 0))"
   ]
  },
  {
   "cell_type": "markdown",
   "metadata": {},
   "source": [
    "Для двух векторов $s$ и $e$ легко определить промежуточное положение $i$ по коэффициенту интерполяции $t$\n",
    "$$ i = s + t (e - s) $$"
   ]
  },
  {
   "cell_type": "code",
   "execution_count": null,
   "metadata": {},
   "outputs": [],
   "source": [
    "s = Vec(1, 2, 7)\n",
    "e = Vec(-4, 3, 0)\n",
    "\n",
    "@gif for t = 0:0.01:1\n",
    "    i = s + t * (e - s)\n",
    "    \n",
    "    p = plot(\n",
    "        xlims = (-4, 4),\n",
    "        ylims = (-4, 4),\n",
    "        zlims = (0, 8)\n",
    "    )\n",
    "    plot!(p, [0, s.x], [0, s.y], [0, s.z], color = :red, label = \"From\")\n",
    "    plot!(p, [0, e.x], [0, e.y], [0, e.z], color = :green, label = \"To\")\n",
    "    plot!(p, [0, i.x], [0, i.y], [0, i.z], color = :black, label = \"Interpolated\")\n",
    "end"
   ]
  },
  {
   "cell_type": "markdown",
   "metadata": {},
   "source": [
    "## Кватернион\n",
    "_Кватернион_ - квазикомплексное число вида $w + ix + jy + kz$, у него есть одна действительная ($w$) и три мнимые части ($x$, $y$, $z$).\n",
    "На практике можно просто представить его как структуру из четырех чисел\n",
    "$$ q = [w, x, y, z] $$"
   ]
  },
  {
   "cell_type": "code",
   "execution_count": null,
   "metadata": {},
   "outputs": [],
   "source": [
    "q = Quat(1, 2, 3, 4)"
   ]
  },
  {
   "cell_type": "code",
   "execution_count": null,
   "metadata": {},
   "outputs": [],
   "source": [
    "q.w"
   ]
  },
  {
   "cell_type": "code",
   "execution_count": null,
   "metadata": {},
   "outputs": [],
   "source": [
    "q.x"
   ]
  },
  {
   "cell_type": "code",
   "execution_count": null,
   "metadata": {},
   "outputs": [],
   "source": [
    "q.y"
   ]
  },
  {
   "cell_type": "code",
   "execution_count": null,
   "metadata": {},
   "outputs": [],
   "source": [
    "q.z"
   ]
  },
  {
   "cell_type": "code",
   "execution_count": null,
   "metadata": {},
   "outputs": [],
   "source": [
    "q = Quat(0, 0, 1, 0);\n",
    "p = Quat(0, 1, 0, 0);"
   ]
  },
  {
   "cell_type": "markdown",
   "metadata": {},
   "source": [
    "Кватернионы можно складывать и вычитать поэлементно"
   ]
  },
  {
   "cell_type": "code",
   "execution_count": null,
   "metadata": {},
   "outputs": [],
   "source": [
    "q + p"
   ]
  },
  {
   "cell_type": "code",
   "execution_count": null,
   "metadata": {},
   "outputs": [],
   "source": [
    "q - p"
   ]
  },
  {
   "cell_type": "markdown",
   "metadata": {},
   "source": [
    "Умножение кватернионов более сложно, оно базируется на свойствах квазикомплексных чисел"
   ]
  },
  {
   "cell_type": "code",
   "execution_count": null,
   "metadata": {},
   "outputs": [],
   "source": [
    "q * p"
   ]
  },
  {
   "cell_type": "markdown",
   "metadata": {},
   "source": [
    "Умножени кватернионов некоммутотивно"
   ]
  },
  {
   "cell_type": "code",
   "execution_count": null,
   "metadata": {},
   "outputs": [],
   "source": [
    "p * q"
   ]
  },
  {
   "cell_type": "markdown",
   "metadata": {},
   "source": [
    "У кватерниона есть _норма_ (_длина_)"
   ]
  },
  {
   "cell_type": "code",
   "execution_count": null,
   "metadata": {},
   "outputs": [],
   "source": [
    "norm(Quat(0, 3, 0, 4))"
   ]
  },
  {
   "cell_type": "markdown",
   "metadata": {},
   "source": [
    "Кватернион с длиной `1` называются _версор_"
   ]
  },
  {
   "cell_type": "code",
   "execution_count": null,
   "metadata": {},
   "outputs": [],
   "source": [
    "norm(Quat(0, sqrt(2)/2, sqrt(2)/2, 0))"
   ]
  },
  {
   "cell_type": "markdown",
   "metadata": {},
   "source": [
    "_Версор_ может применяться для описания вращения.\n",
    "Для того чтобы описать вращение с помощью версора нужно знать угол поворота $\\alpha$ (в радианах) и ось вращения (вектор) $v$\n",
    "$$ \\left[\\cos\\frac{\\alpha}{2}, \\sin\\frac{\\alpha}{2} v_x,  \\sin\\frac{\\alpha}{2} v_y,  \\sin\\frac{\\alpha}{2} v_z \\right] $$"
   ]
  },
  {
   "cell_type": "code",
   "execution_count": null,
   "metadata": {},
   "outputs": [],
   "source": [
    "Quat(pi/2, Vec(1, 0, 0))"
   ]
  },
  {
   "cell_type": "markdown",
   "metadata": {},
   "source": [
    "Версор `[1, 0, 0, 0]` описывает нулевой поворот"
   ]
  },
  {
   "cell_type": "code",
   "execution_count": null,
   "metadata": {},
   "outputs": [],
   "source": [
    "Quat(0, Vec(1, 0, 0))"
   ]
  },
  {
   "cell_type": "markdown",
   "metadata": {},
   "source": [
    "_Комплексно сопряженный_ версор описывает обратный поворот"
   ]
  },
  {
   "cell_type": "code",
   "execution_count": null,
   "metadata": {},
   "outputs": [],
   "source": [
    "q = Quat(0, 0, 1, 0)\n",
    "conj(q)"
   ]
  },
  {
   "cell_type": "markdown",
   "metadata": {},
   "source": [
    "Версор можно использовать для _поворота_ вектора. Внутри эта операция построена на основе сэндвич оператора"
   ]
  },
  {
   "cell_type": "code",
   "execution_count": null,
   "metadata": {
    "scrolled": true
   },
   "outputs": [],
   "source": [
    "q = Quat(pi / 2, Vec(0, 0, 1))\n",
    "v = Vec(1, 2, 3)\n",
    "q * v"
   ]
  },
  {
   "cell_type": "markdown",
   "metadata": {},
   "source": [
    "Для двух версоров можно `q` и `p` найти промежуточный версор `i` по параметру интерполяции `t` такой, что он будет находится на кратчайшем пути поворота"
   ]
  },
  {
   "cell_type": "code",
   "execution_count": null,
   "metadata": {},
   "outputs": [],
   "source": [
    "s = Quat(1, 0, 0, 0)\n",
    "e = Quat(pi / 3, Vec(-1, 1, 1))\n",
    "\n",
    "@gif for t = 0:0.01:1\n",
    "    i = slerp(s, e, t)\n",
    "    \n",
    "    p = plot(\n",
    "        xlims = (-1, 1),\n",
    "        ylims = (-1, 1),\n",
    "        zlims = (-1, 1)\n",
    "    )\n",
    "    plotAxis!(p, Transf(Vec(), s), 0.9)\n",
    "    plotAxis!(p, Transf(Vec(), e), 0.9)\n",
    "    plotAxis!(p, Transf(Vec(), i), 1)\n",
    "end"
   ]
  },
  {
   "cell_type": "markdown",
   "metadata": {},
   "source": [
    "## Положение\n",
    "Положение описывается _вектором_ $v$ и _кватернионом_ $q$, соответстующих _последовательным_ перемещению и повороту\n",
    "$$ [v, q] $$"
   ]
  },
  {
   "cell_type": "code",
   "execution_count": null,
   "metadata": {},
   "outputs": [],
   "source": [
    "Transf(\n",
    "    Vec(1, 2, 3),\n",
    "    Quat(1, 0, 0, 0)\n",
    ")"
   ]
  },
  {
   "cell_type": "markdown",
   "metadata": {},
   "source": [
    "Имея положение можно определить составляющие его вектор и кватернион"
   ]
  },
  {
   "cell_type": "code",
   "execution_count": null,
   "metadata": {},
   "outputs": [],
   "source": [
    "t = Transf(Vec(1, 2, 3), Quat(0, 0, 1, 0))"
   ]
  },
  {
   "cell_type": "code",
   "execution_count": null,
   "metadata": {},
   "outputs": [],
   "source": [
    "t.v"
   ]
  },
  {
   "cell_type": "code",
   "execution_count": null,
   "metadata": {},
   "outputs": [],
   "source": [
    "t.q"
   ]
  },
  {
   "cell_type": "markdown",
   "metadata": {},
   "source": [
    "Если дано положение `t2` в локальной системе координат `t1`, то можно определить его положение в глобальной системе координат"
   ]
  },
  {
   "cell_type": "code",
   "execution_count": null,
   "metadata": {},
   "outputs": [],
   "source": [
    "t1 = Transf(Vec(10, 20, 30), Quat(pi / 2, Vec(1, 0, 0)))\n",
    "t2 = Transf(Vec(1, 2, 3), Quat(1, 0, 0, 0))\n",
    "t1 + t2"
   ]
  },
  {
   "cell_type": "markdown",
   "metadata": {},
   "source": [
    "Также можно определить положение вектора заданого в локальной системе координат"
   ]
  },
  {
   "cell_type": "code",
   "execution_count": null,
   "metadata": {
    "scrolled": true
   },
   "outputs": [],
   "source": [
    "t = Transf(Vec(10, 20, 30), Quat(pi / 2, Vec(0, 1, 0)))\n",
    "v = Vec(1, 2, 3)\n",
    "t + v"
   ]
  },
  {
   "cell_type": "markdown",
   "metadata": {},
   "source": [
    "Преобразования можно использовать для описания кинематических цепей"
   ]
  },
  {
   "cell_type": "code",
   "execution_count": null,
   "metadata": {
    "scrolled": true
   },
   "outputs": [],
   "source": [
    "t0 = Transf()\n",
    "t1 = t0 + Transf(Vec(0, 0, 1), Quat(pi/4, Vec(1, 0, 0)))\n",
    "t2 = t1 + Transf(Vec(0, 0, 1))\n",
    "[\n",
    "    \"начало\" t0 ;\n",
    "    \"сустав\" t1 ;\n",
    "    \"конец\" t2\n",
    "]"
   ]
  },
  {
   "cell_type": "markdown",
   "metadata": {},
   "source": [
    "Кинематическую цепь можно отобразить"
   ]
  },
  {
   "cell_type": "code",
   "execution_count": null,
   "metadata": {},
   "outputs": [],
   "source": [
    "p = plot(\n",
    "    xlims = (-1, 1),\n",
    "    ylims = (-1, 1),\n",
    "    zlims = (0, 2)\n",
    ")\n",
    "\n",
    "plotChain!(p, [t0, t1, t2])"
   ]
  }
 ],
 "metadata": {
  "@webio": {
   "lastCommId": null,
   "lastKernelId": null
  },
  "kernelspec": {
   "display_name": "Julia 1.5.0",
   "language": "julia",
   "name": "julia-1.5"
  },
  "language_info": {
   "file_extension": ".jl",
   "mimetype": "application/julia",
   "name": "julia",
   "version": "1.5.1"
  }
 },
 "nbformat": 4,
 "nbformat_minor": 4
}
