{
 "cells": [
  {
   "cell_type": "code",
   "execution_count": null,
   "metadata": {
    "scrolled": true
   },
   "outputs": [],
   "source": [
    "using Transformation, Plots, Logging\n",
    "disable_logging(LogLevel(1000));\n",
    "include(\"graphics.jl\");"
   ]
  },
  {
   "cell_type": "markdown",
   "metadata": {},
   "source": [
    "# Манипулятор PUMA\n",
    "Манипулятор типа PUMA обладает шестью степенями подвижности и способен обеспечить шесть степеней свободы инструмента.\n",
    "\n",
    "Для описания простейшей версии манипулятора кинематики PUMA достаточно задать длины четырех смещений вдоль локальных осей Z."
   ]
  },
  {
   "cell_type": "code",
   "execution_count": null,
   "metadata": {
    "scrolled": true
   },
   "outputs": [],
   "source": [
    "l = [\n",
    "    4, # Расстояние от основания до второй кинематической пары\n",
    "    5, # Расстояние от второй кинематической пары до третьей\n",
    "    4, # Расстояние от третьей кинематической пары до пятой\n",
    "    1  # Расстояние от пятой кинематической пары до фланца\n",
    "];"
   ]
  },
  {
   "cell_type": "markdown",
   "metadata": {},
   "source": [
    "## Решение прямой задачи кинематики для манипулятора PUMA\n",
    "\n",
    "Для того чтобы решить прямую задачу кинематики зададим положение всех кинематических пар"
   ]
  },
  {
   "cell_type": "code",
   "execution_count": null,
   "metadata": {
    "scrolled": true
   },
   "outputs": [],
   "source": [
    "function puma(l::Array{<:Real,1}, q::Array{<:Real,1})::Array{Transf,1}\n",
    "    # Переведем градусы в радианы\n",
    "    q = map(deg2rad, q)\n",
    "    # Зададим нулевое смещение и поворот вокруг вертикальной оси на угол q[1]\n",
    "    t0 = Transf(Vec(), Quat(q[1], Vec(0, 0, 1)))\n",
    "    # Прибавим к нему смещение на длину l[1] и последующий поворот вокруг оси локальной X на угол q[2]\n",
    "    t1 = t0 + Transf(Vec(0, 0, l[1]), Quat(q[2], Vec(1, 0, 0)))\n",
    "    # Прибавим смещение на длину l[2] вдоль локальной оси Z и поворот вокруг локальной оси X на угол q[3]\n",
    "    t2 = t1 + Transf(Vec(0, 0, l[2]), Quat(q[3], Vec(1, 0, 0)))\n",
    "    # Прибавим смещение на длину l[3] и последовательные повороты вокруг локальных осей Z и X на углы q[4] и q[5]\n",
    "    t3 = t2 + Transf(Vec(0, 0, l[3]), Quat(q[4], Vec(0, 0, 1)) * Quat(q[5], Vec(1, 0, 0)))#\n",
    "    # Прибавим смещение на длину l[4] и последующий поворот вокруг оси Z на угол q[6]\n",
    "    t4 = t3 + Transf(Vec(0, 0, l[4]), Quat(q[6], Vec(0, 0, 1)))\n",
    "    [t0, t1, t2, t3, t4]\n",
    "end;"
   ]
  },
  {
   "cell_type": "markdown",
   "metadata": {},
   "source": [
    "## Пример решения прямой задачи кинематики"
   ]
  },
  {
   "cell_type": "code",
   "execution_count": null,
   "metadata": {
    "scrolled": false
   },
   "outputs": [],
   "source": [
    "qs = [0, 45, 90, 90, 90, 0]\n",
    "qe = [120, -15, 120, 60, -90, 360]\n",
    "\n",
    "pathX = []\n",
    "pathY = []\n",
    "pathZ = []\n",
    "@gif for t = 0:.01:1\n",
    "    # Подготовим график\n",
    "    p = plot(xlims = (-6, 6), ylims = (-6, 6), zlims = (0, 12))\n",
    "    \n",
    "    # Зададим обобщенные координаты как промежуточное значение между начальным и конечным значениями\n",
    "    q = qs + t * (qe - qs)\n",
    "    \n",
    "    # Расчитаем кинематическую цепь\n",
    "    chain = puma(l, q)\n",
    "    \n",
    "    # Возьмем последнее положение из кинематической цепи\n",
    "    lst = last(chain)\n",
    "    push!(pathX, lst.v.x); push!(pathY, lst.v.y); push!(pathZ, lst.v.z)\n",
    "    plotChain!(p, chain)\n",
    "    projectChain!(p, chain)\n",
    "    for joint in chain\n",
    "        plotAxis!(p, joint, 0.5)\n",
    "    end\n",
    "    plot!(p, pathX, pathY, pathZ, color = :gray, label = \"path\")\n",
    "end"
   ]
  },
  {
   "cell_type": "markdown",
   "metadata": {},
   "source": [
    "## Решение обратной задачи кинематики для манипулятора PUMA\n",
    "\n",
    "Для решения обратной задачи кинематики разобьем манипулятор на две части.\n",
    "Первая часть будет отвечать за перемешение инструмента, вторая - за ориентирование.\n",
    "К первой части относятся первые три подвижности, ко второй - последние три.\n",
    "\n",
    "### Перемещение инструмента\n",
    "\n",
    "Начнем с нахождения положения пятой кинематической пары.\n",
    "Известно, что она смещена на $l_4$ вдоль локальной оси $Z_t$.\n",
    "Тогда можно просто определить ее положение добавив вектор $(0, 0, -l_4)$ к системе координат, описывающей целевое положение `t`.\n",
    "\n",
    "Кроме этого заметим, что робот приподнят на высоту $l_1$, для упрощения расчетов вычтем ее.\n",
    "\n",
    "Теперь рассмотрим проекцию этой точки на плоскость $XY$.\n",
    "Очевидно что угол от оси $X$ до этой проекции равен $\\tan^{-1}(y, x)$.\n",
    "Так как при $q_1 = 0$ робот направлен вдоль оси $Y$ вычтем недостающие $\\frac{\\pi}{2}$ радиан.\n",
    "$$ q_1 = \\tan^{-1}(y, x) - \\frac{\\pi}{2} $$\n",
    "\n",
    "Рассмотрим плоскость образованную пятой кинематической парой и глобальной осью $Z$.\n",
    "Плечо и предплечье робота ($l_2$ и $l_3$) образуют треугольник, лежащий в этой плоскости.\n",
    "Тогда длина третьей стороны $d$ этого треугольника равна расстоянию от второй кинематической пары до пятой.\n",
    "Угол при вершине этого треугольника $\\beta$ можно определить по теореме косинусов.\n",
    "$$ \\beta = \\cos^{-1}\\left(\\frac{l_2^2 + l_3^2 - d^2}{2 l_2 l_3}\\right) $$\n",
    "\n",
    "Так как $q_3$ расчитывается от продолжения звена, добавим $\\pi$ к $b\\eta$\n",
    "$$ q_3 = \\beta + \\pi $$\n",
    "\n",
    "При расчете $q_2$ заметим, что сторона $d$ треугольника приподнята на $\\alpha_1 = \\tan^{-1}(z, \\sqrt{x^2 + y^2})$ относительно горизонтали.\n",
    "Величина угла треугольника при второй кинематической паре равна (тоже по теореме косинусов) $\\alpha_2 = \\cos^{-1}\\left(\\frac{l_2^2 + d^2 - l_3^2}{2 l_2 d}\\right)$.\n",
    "Так как $q_2$ задано от продолжения звена, а $\\alpha_1 + \\alpha_2$ дают угол от горизонтали, вычтем из них $\\frac{\\pi}{2}$\n",
    "$$q _2 = \\alpha_1 + \\alpha_2 - \\frac{\\pi}{2} $$\n",
    "\n",
    "### Вращение инструмента\n",
    "\n",
    "Для определения вращения инструмента сначала определим ориентацию робота после применения первых трех подвижностей.\n",
    "$$ o =\n",
    "\\left[\\cos\\left(\\frac{q_1}{2}\\right], 0, 0, \\sin\\left(\\frac{q_1}{2}\\right)\\right] \\times\n",
    "\\left[\\cos\\left(\\frac{q_2}{2}\\right), \\sin\\left(\\frac{q_2}{2}\\right), 0, 0\\right] \\times\n",
    "\\left[\\cos\\left(\\frac{q_3}{2}\\right), \\sin\\left(\\frac{q_3}{2}\\right), 0, 0\\right] $$\n",
    "\n",
    "Отметим что ось вращения пятой кинематической пары перпендикулярна осям $Z_o$ четвертой кинематической пары $Z_t$ шестой кинематической пары.\n",
    "Ось $Z$ шестой кинематической пары совпадает с осью $Z_t$ целевой ориентации.\n",
    "Тогда ось $X_r$ пятой кинематической пары можно получить как векторное проихведение $Z_o$ и $Z_r$.\n",
    "$$ X_r = Z_o \\times{} Z_r $$\n",
    "\n",
    "Тогда $q_4$ равно углу от оси $X_o$ третьей кинематической пары до оси $X_r$ пятой кинематической пары.\n",
    "$$ q_4 = \\angle{} X_o, X_t $$\n",
    "\n",
    "$q_5$ равно углу от оси $Z_o$ четвертой кинематической пары до оси $Z_t$\n",
    "$$ q_5 = \\angle{} Z_o, Z_t $$\n",
    "\n",
    "$q_6$ равно углу от оси $X_r$ пятой кинематической пары до оси $X_t$ целевой ориентации\n",
    "$$ q_6 = \\angle{} X_r, X_t $$"
   ]
  },
  {
   "cell_type": "code",
   "execution_count": null,
   "metadata": {
    "scrolled": false
   },
   "outputs": [],
   "source": [
    "function angleTo(a::Vec, b::Vec, n::Vec)::Real\n",
    "    c = cross(a, b)\n",
    "    d = dot(a, b)\n",
    "    s = dot(c, n) > 0 ? 1 : -1\n",
    "    s * atan(norm(c), d)\n",
    "end\n",
    "\n",
    "function wrap360(a::Real)::Real\n",
    "    (a + 540) % 360 - 180\n",
    "end\n",
    "\n",
    "function ik(l::Array{<:Real,1}, t::Transf, i::Array{<:Real,1}=[1, 1, 1])::Array{<:Real,1}\n",
    "    fifth = t + Vec(0, 0, -l[4])\n",
    "    fifth = fifth - Vec(0, 0, l[1])\n",
    "    q1 = atan(fifth.y, fifth.x) - pi + pi / 2 * i[1]\n",
    "    d = norm(fith)\n",
    "    q3 = i[1] * i[2] * acos((l[2]^2 + l[3]^2 - d^2)/(2 * l[2] * l[3])) + pi\n",
    "    q2 = i[1] * (i[2] * acos((l[2]^2 + d^2 - l[3]^2)/(2 * l[2] * d)) + atan(fifth.z, sqrt(fifth.x^2 + fifth.y^2)) - pi / 2)\n",
    "    \n",
    "    o = Quat(q1, Vec(0, 0, 1)) * Quat(q2, Vec(1, 0, 0)) * Quat(q3, Vec(1, 0, 0))\n",
    "    xo = o * Vec(1, 0, 0)\n",
    "    zo = o * Vec(0, 0, 1)\n",
    "    xt = t.q * Vec(1, 0, 0)\n",
    "    zt = t.q * Vec(0, 0, 1)\n",
    "    xr = cross(zo, zt)\n",
    "    \n",
    "    q4 = angleTo(xo, xr, zo) + pi / 2 - pi / 2 * i[3]\n",
    "    q5 = angleTo(zo, zt, xr) * i[3]\n",
    "    q6 = angleTo(xr, xt, zt) + pi / 2 - pi / 2 * i[3]\n",
    "    q = map(rad2deg, [q1, q2, q3, q4, q5, q6])\n",
    "    map(wrap360, q)\n",
    "end;"
   ]
  },
  {
   "cell_type": "markdown",
   "metadata": {},
   "source": [
    "## Начальное и конечное положения"
   ]
  },
  {
   "cell_type": "code",
   "execution_count": null,
   "metadata": {
    "scrolled": true
   },
   "outputs": [],
   "source": [
    "s = Transf(Vec(0, -6, 4), Quat(pi / 3, Vec(1, 0, 0)))\n",
    "e = Transf(Vec(4, 0, 12), Quat(pi / 2, Vec(0, 1, 0)));"
   ]
  },
  {
   "cell_type": "markdown",
   "metadata": {},
   "source": [
    "### Линейное движение"
   ]
  },
  {
   "cell_type": "code",
   "execution_count": null,
   "metadata": {
    "scrolled": false
   },
   "outputs": [],
   "source": [
    "pathX = []\n",
    "pathY = []\n",
    "pathZ = []\n",
    "@gif for t = 0:0.01:1\n",
    "    p = plot(\n",
    "        xlims = (-6, 6),\n",
    "        ylims = (-6, 6),\n",
    "        zlims = (0, 12),\n",
    "        size = (500, 500)\n",
    "    )\n",
    "    # Определим промежуточное положение через линейные интерполяции вектора смещения и кватерниона ориентации\n",
    "    target = Transf(\n",
    "        s.v + t * (e.v - s.v),\n",
    "        slerp(s.q, e.q, t),\n",
    "    )\n",
    "    # Воспользуемся решением обратной задачи кинематики\n",
    "    q = ik(l, target, [1, 1, 1])\n",
    "    chain = puma(l, q)\n",
    "    lst = last(chain)\n",
    "    push!(pathX, lst.v.x); push!(pathY, lst.v.y); push!(pathZ, lst.v.z)\n",
    "    plotChain!(p, chain)\n",
    "    projectChain!(p, chain)\n",
    "    plotAxis!(p, s); plotAxis!(p, e); plotAxis!(p, lst)\n",
    "    plot!(p, pathX, pathY, pathZ, color = :gray, label = \"path\")\n",
    "end"
   ]
  },
  {
   "cell_type": "markdown",
   "metadata": {},
   "source": [
    "### Переброска"
   ]
  },
  {
   "cell_type": "code",
   "execution_count": null,
   "metadata": {
    "scrolled": false
   },
   "outputs": [],
   "source": [
    "pathX = []\n",
    "pathY = []\n",
    "pathZ = []\n",
    "\n",
    "# Рещим обратную задачу кинематики для начального и конечного положения\n",
    "qs = ik(l, s)\n",
    "qe = ik(l, e)\n",
    "@gif for t = 0:0.01:1\n",
    "    p = plot(\n",
    "        xlims = (-6, 6),\n",
    "        ylims = (-6, 6),\n",
    "        zlims = (0, 12),\n",
    "        size = (500, 500)\n",
    "    )\n",
    "    # Найдем промежуточное значение обобщенных координат \n",
    "    q = qs + t * (qe - qs)\n",
    "    chain = puma(l, q)\n",
    "    lst = last(chain)\n",
    "    push!(pathX, lst.v.x); push!(pathY, lst.v.y); push!(pathZ, lst.v.z)\n",
    "    plotChain!(p, chain)\n",
    "    projectChain!(p, chain)\n",
    "    plotAxis!(p, s); plotAxis!(p, e); plotAxis!(p, lst)\n",
    "    plot!(p, pathX, pathY, pathZ, color = :gray, label = \"path\")\n",
    "end"
   ]
  },
  {
   "cell_type": "markdown",
   "metadata": {},
   "source": [
    "### Влияние флагов конфигурации"
   ]
  },
  {
   "cell_type": "code",
   "execution_count": null,
   "metadata": {
    "scrolled": false
   },
   "outputs": [],
   "source": [
    "# Перечислим все флаги используя коды Грея\n",
    "flags = [\n",
    "    [1, 1, 1],\n",
    "    [-1, 1, 1],\n",
    "    [-1, -1, 1],\n",
    "    [-1, -1, -1],\n",
    "    [-1, 1, -1],\n",
    "    [1, 1, -1],\n",
    "    [1, -1, -1],\n",
    "    [1, -1, 1],\n",
    "    [1, 1, 1]\n",
    "]\n",
    "# Зададим целевое положение\n",
    "target = Transf(Vec(4, -3, 5), Quat(2pi / 3, Vec(1, 1, 1)))\n",
    "@gif for i = 1:0.01:8.99\n",
    "    p = plot(\n",
    "        xlims = (-6, 6),\n",
    "        ylims = (-6, 6),\n",
    "        zlims = (0, 12),\n",
    "        size = (500, 500)\n",
    "    )\n",
    "    \n",
    "    flagsStart = flags[Int(floor(i))]\n",
    "    flagsEnd = flags[Int(floor(i+1))]\n",
    "    t = i % 1\n",
    "    arg = 0.5 - cos(t * pi) / 2\n",
    "    qStart = ik(l, target, flagsStart)\n",
    "    qEnd = ik(l, target, flagsEnd)\n",
    "    q = qStart + arg * (qEnd - qStart)\n",
    "    \n",
    "    chain = puma(l, q)\n",
    "    lst = last(chain)\n",
    "    plotChain!(p, chain)\n",
    "    projectChain!(p, chain)\n",
    "    plotAxis!(p, lst)\n",
    "    plotAxis!(p, target)\n",
    "end"
   ]
  }
 ],
 "metadata": {
  "@webio": {
   "lastCommId": null,
   "lastKernelId": null
  },
  "kernelspec": {
   "display_name": "Julia 1.5.0",
   "language": "julia",
   "name": "julia-1.5"
  },
  "language_info": {
   "file_extension": ".jl",
   "mimetype": "application/julia",
   "name": "julia",
   "version": "1.5.1"
  }
 },
 "nbformat": 4,
 "nbformat_minor": 4
}
