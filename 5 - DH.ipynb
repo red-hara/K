{
 "cells": [
  {
   "cell_type": "code",
   "execution_count": null,
   "metadata": {},
   "outputs": [],
   "source": [
    "using Transformation, Plots, Logging\n",
    "disable_logging(LogLevel(1000))\n",
    "include(\"graphics.jl\");"
   ]
  },
  {
   "cell_type": "markdown",
   "metadata": {},
   "source": [
    "# Нотация Денавита и Хартенберга\n",
    "\n",
    "Нотация Денавита и Хартенберга позволяет описать любую последовательную кинематическую схему.\n",
    "В основе этого подхода лежит соображение о том, что оси двух соседних кинематических пар всегда зафиксированны друг относительно друга.\n",
    "Тогда мы можем использовать подход Плюккера для описания взаимного расположения прямых, совпадающих с этими осями.\n",
    "\n",
    "Пускай даны две прямые $A$ и $B$, точка $p$, лежащая на $A$ и единичный вектор $n$, перпендикулярный $A$.\n",
    "Договоримся что у прямой есть направление (относительно $p$ можно смещаться как в положительную, так и в отрицательную сторону вдоль $A$).\n",
    "Тогда чтобы описать положение прямой $B$ относительно $A$ и $p$ нужно задать:\n",
    "- смещение вдоль $A$ на величину $t_z$\n",
    "- поворот вектора $n$ вокруг $A$ на угол $r_z$\n",
    "- смещение вдоль повернутого вектора $n$ на $t_x$\n",
    "- поворот вокруг повернутого вектора $n$ на угол $r_z$\n",
    "\n",
    "Этот набор операций соответсвует\n",
    "- смещению вдоль $A$ от точки $p$ до общего перпендикуляра (или точки пересечения) $A$ и $B$\n",
    "- повороту в сторону этого общего перпендикуляра\n",
    "- смещению вдоль этого общего перпендикуляра\n",
    "- повороту вокруг этого общего перпендикуляра"
   ]
  },
  {
   "cell_type": "code",
   "execution_count": null,
   "metadata": {},
   "outputs": [],
   "source": [
    "function dh(tz::Real, rz::Real, tx::Real, rx::Real)::Transf\n",
    "    Transf(Vec(0, 0, tz), Quat(rz, Vec(0, 0, 1))) + Transf(Vec(tx, 0, 0), Quat(rx, Vec(1, 0, 0)))\n",
    "end;"
   ]
  },
  {
   "cell_type": "markdown",
   "metadata": {},
   "source": [
    "Зададим протой трехзвенный манипулятор в нотации Денавита-Хартенберга"
   ]
  },
  {
   "cell_type": "code",
   "execution_count": null,
   "metadata": {},
   "outputs": [],
   "source": [
    "function three(l::Array{<:Real,1}, q::Array{<:Real,1})::Array{Transf,1}\n",
    "    q = map(deg2rad, q)\n",
    "    t0 = Transf()\n",
    "    t1 = t0 + dh(l[1], q[1] + pi/2, 0, pi/2)\n",
    "    t2 = t1 + dh(0, q[2] + pi/2, l[2], 0)\n",
    "    t3 = t2 + dh(0, q[3], l[3], 0)\n",
    "    [t0, t1, t2, t3]\n",
    "end;"
   ]
  },
  {
   "cell_type": "markdown",
   "metadata": {},
   "source": [
    "И рассмотрим решение прямой задачи кинематики.\n",
    "Особое внимание стоит уделить тому, что вращение всегда происходит вокруг локальных осей $Z$"
   ]
  },
  {
   "cell_type": "code",
   "execution_count": null,
   "metadata": {
    "scrolled": false
   },
   "outputs": [],
   "source": [
    "l = [3, 3, 2];\n",
    "\n",
    "@gif for t = 0:0.01:1\n",
    "    p = plot(\n",
    "        xlims = (-6, 6),\n",
    "        ylims = (-6, 6),\n",
    "        zlims = (0, 12)\n",
    "    )\n",
    "    \n",
    "    q = [\n",
    "        90sin(2pi * t),\n",
    "        45 + 45cos(2pi * t),\n",
    "        60 + 30sin(4pi * t + pi/3)\n",
    "    ]\n",
    "    chain = three(l, q)\n",
    "    for segment in chain\n",
    "        plotAxis!(p, segment, 0.5)\n",
    "    end\n",
    "    plotChain!(p, chain)\n",
    "end"
   ]
  },
  {
   "cell_type": "markdown",
   "metadata": {},
   "source": [
    "Идентично описывается манипулятор кинематики PUMA"
   ]
  },
  {
   "cell_type": "code",
   "execution_count": null,
   "metadata": {},
   "outputs": [],
   "source": [
    "function puma(l::Array{<:Real,1}, q::Array{<:Real,1})::Array{Transf,1}\n",
    "    q = map(deg2rad, q)\n",
    "    t0 = Transf()\n",
    "    t1 = t0 + dh(l[1], q[1] + pi/2, 0, pi/2)\n",
    "    t2 = t1 + dh(0, q[2] + pi/2, l[2], 0)\n",
    "    t3 = t2 + dh(0, q[3] + pi/2, 0, pi/2)\n",
    "    t4 = t3 + dh(l[3], q[4], 0, -pi/2)\n",
    "    t5 = t4 + dh(0, q[5], 0, pi/2)\n",
    "    t6 = t5 + dh(l[4], q[6], 0, 0)\n",
    "    \n",
    "    [t0, t1, t2, t3, t4, t5, t6]\n",
    "end;"
   ]
  },
  {
   "cell_type": "code",
   "execution_count": null,
   "metadata": {},
   "outputs": [],
   "source": [
    "l = [4, 5, 4, 1];\n",
    "\n",
    "qs = [0, 45, 90, 90, 90, 0]\n",
    "qe = [120, -15, 120, 60, -90, 360]\n",
    "\n",
    "pathX = []\n",
    "pathY = []\n",
    "pathZ = []\n",
    "@gif for t = 0:.01:1\n",
    "    p = plot(xlims = (-6, 6), ylims = (-6, 6), zlims = (0, 12))\n",
    "    \n",
    "    q = qs + t * (qe - qs)\n",
    "    chain = puma(l, q)\n",
    "    lst = last(chain)\n",
    "    push!(pathX, lst.v.x); push!(pathY, lst.v.y); push!(pathZ, lst.v.z)\n",
    "    plotChain!(p, chain)\n",
    "    projectChain!(p, chain)\n",
    "    for joint in chain\n",
    "        plotAxis!(p, joint, 0.5)\n",
    "    end\n",
    "    plot!(p, pathX, pathY, pathZ, color = :gray, label = \"path\")\n",
    "end"
   ]
  }
 ],
 "metadata": {
  "@webio": {
   "lastCommId": null,
   "lastKernelId": null
  },
  "kernelspec": {
   "display_name": "Julia 1.5.0",
   "language": "julia",
   "name": "julia-1.5"
  },
  "language_info": {
   "file_extension": ".jl",
   "mimetype": "application/julia",
   "name": "julia",
   "version": "1.5.1"
  }
 },
 "nbformat": 4,
 "nbformat_minor": 4
}
